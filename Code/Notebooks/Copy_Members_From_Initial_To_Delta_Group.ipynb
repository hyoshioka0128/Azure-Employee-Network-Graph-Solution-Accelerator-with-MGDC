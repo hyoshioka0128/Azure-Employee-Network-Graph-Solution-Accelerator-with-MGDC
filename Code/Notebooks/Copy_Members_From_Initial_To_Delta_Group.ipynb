{
  "cells": [
    {
      "cell_type": "markdown",
      "metadata": {
        "nteract": {
          "transient": {
            "deleting": false
          }
        }
      },
      "source": [
        "Copyright (c) Microsoft Corporation.\n",
        "\n",
        "Licensed under the MIT License."
      ]
    },
    {
      "cell_type": "code",
      "execution_count": 4,
      "metadata": {
        "jupyter": {
          "outputs_hidden": false,
          "source_hidden": false
        },
        "nteract": {
          "transient": {
            "deleting": false
          }
        },
        "tags": [
          "parameters"
        ]
      },
      "outputs": [],
      "source": [
        "initial_load_user_group = ''\n",
        "delta_load_user_group = ''"
      ]
    },
    {
      "cell_type": "code",
      "execution_count": 5,
      "metadata": {
        "jupyter": {
          "outputs_hidden": false,
          "source_hidden": false
        },
        "nteract": {
          "transient": {
            "deleting": false
          }
        }
      },
      "outputs": [],
      "source": [
        "import ast\n",
        "\n",
        "# convert string parameter to list of strings\n",
        "delta_load_user_group= ast.literal_eval(delta_load_user_group)\n",
        "initial_load_user_group = ast.literal_eval(initial_load_user_group)"
      ]
    },
    {
      "cell_type": "code",
      "execution_count": 6,
      "metadata": {},
      "outputs": [],
      "source": [
        "import requests\n",
        "import msal\n",
        "import logging\n",
        "\n",
        "linked_service = \"\"\n",
        "keyvault_name = \"\"\n",
        "\n",
        "authority = mssparkutils.credentials.getSecret(linkedService=linked_service,akvName=keyvault_name,secret='')\n",
        "client_id = mssparkutils.credentials.getSecret(linkedService=linked_service,akvName=keyvault_name,secret='')\n",
        "secret = mssparkutils.credentials.getSecret(linkedService=linked_service,akvName=keyvault_name,secret='')\n",
        "\n",
        "\n",
        "scope = [\"https://graph.microsoft.com/.default\"]\n",
        "base_endpoint = \"https://graph.microsoft.com/v1.0\"\n",
        "\n",
        "app = msal.ConfidentialClientApplication(client_id, authority=authority,client_credential=secret)\n",
        "\n",
        "result = None\n",
        "result = app.acquire_token_silent(scope, account=None)\n",
        "\n",
        "if not result:\n",
        "    logging.info(\"No suitable token exists in cache. Let's get a new one from AAD.\")\n",
        "    result = app.acquire_token_for_client(scope)\n",
        "\n",
        "if \"access_token\" not in result:\n",
        "    print(result.get(\"error\"))\n",
        "    print(result.get(\"error_description\"))\n",
        "    print(result.get(\"correlation_id\")) \n",
        "\n",
        "headers = {'Authorization': 'Bearer ' + result['access_token']}\n",
        "\n",
        "def get_group_members(base_endpoint, headers, group_id):\n",
        "    endpoint = base_endpoint + '/groups/' + group_id + '/members' \n",
        "    graph_data = requests.get(endpoint,headers=headers,).json()\n",
        "    return(graph_data)\n",
        "\n",
        "def delete_group_members(base_endpoint, headers, group_id,member_ids):\n",
        "    for member_id in member_ids:\n",
        "        endpoint = base_endpoint + '/groups/' + group_id + '/members/' + member_id + '/$ref'\n",
        "        response = requests.delete(endpoint, headers=headers)\n",
        "    return(response)\n",
        "\n",
        "def add_group_members(base_endpoint, headers, group_id,members_data):\n",
        "    endpoint = base_endpoint + '/groups/' + group_id\n",
        "    response = requests.patch(endpoint,json=members_data, headers=headers)\n",
        "    return(response)\n"
      ]
    },
    {
      "cell_type": "code",
      "execution_count": 7,
      "metadata": {
        "jupyter": {
          "outputs_hidden": false,
          "source_hidden": false
        },
        "nteract": {
          "transient": {
            "deleting": false
          }
        }
      },
      "outputs": [],
      "source": [
        "from pyspark.sql.functions import lit, col\n",
        "\n",
        "df_members = get_group_members(base_endpoint,headers,initial_load_user_group[0])\n",
        "\n",
        "member_ids = []\n",
        "for member_value in df_members['value']:\n",
        "    member_ids.append(member_value['id'])\n",
        "\n",
        "members_data = []\n",
        "for member_id in member_ids:\n",
        "    members_data.append('https://graph.microsoft.com/v1.0/directoryObjects/' + member_id)\n",
        "\n",
        "members_data = {\n",
        "    \"members@odata.bind\": members_data\n",
        "}\n",
        "\n",
        "df_response = add_group_members(base_endpoint,headers,delta_load_user_group[0],members_data)\n",
        "df_response\n",
        "\n",
        "if len(df_members['value']) > 0:\n",
        "    delete_group_members(base_endpoint,headers,initial_load_user_group[0],member_ids)\n",
        "\n",
        "# update the inital load completion flag in Cosmos DB \n",
        "df = spark.read.format(\"cosmos.oltp\")\\\n",
        "            .option(\"spark.synapse.linkedService\", \"CosmosDB\")\\\n",
        "            .option(\"spark.cosmos.container\", \"users\")\\\n",
        "            .load()\n",
        "\n",
        "# Uncomment this if your Linked Service is enabled with a private endpoint \n",
        "#df = spark.read.format(\"cosmos.oltp\")\\\n",
        "#            .option(\"spark.cosmos.useGatewayMode\", True)\\\n",
        "#            .option(\"spark.synapse.linkedService\", \"CosmosDB\")\\\n",
        "#            .option(\"spark.cosmos.container\", \"users\")\\\n",
        "#            .load()\n",
        "\n",
        "df = df.filter(col('user_id').isin(member_ids))\n",
        "df = df.withColumn('initialload_completion_flag', lit(1))\n",
        "member_ids = df.select(\"user_id\").rdd.flatMap(lambda x: x).collect()\n",
        "\n",
        "# append updates the existing record with flag from 0 to 1\n",
        "df.write.format(\"cosmos.oltp\")\\\n",
        "    .option(\"spark.synapse.linkedService\", \"CosmosDB\")\\\n",
        "    .option(\"spark.cosmos.container\", \"users\")\\\n",
        "    .mode('append')\\\n",
        "    .save()\n",
        "\n",
        "# Uncomment this if your Linked Service is enabled with a private endpoint \n",
        "#df.write.format(\"cosmos.oltp\")\\\n",
        "#    .option(\"spark.cosmos.useGatewayMode\", True)\\\n",
        "#    .option(\"spark.synapse.linkedService\", \"CosmosDB\")\\\n",
        "#    .option(\"spark.cosmos.container\", \"users\")\\\n",
        "#    .mode('append')\\\n",
        "#    .save()"
      ]
    }
  ],
  "metadata": {
    "description": null,
    "kernelspec": {
      "display_name": "Python 3.7.8 64-bit",
      "language": "python",
      "name": "python3"
    },
    "language_info": {
      "name": "python",
      "version": "3.7.8"
    },
    "save_output": true,
    "vscode": {
      "interpreter": {
        "hash": "0a54084e6b208ee8d1ce3989ffc20924477a5f55f5a43e22e699a6741623861e"
      }
    }
  },
  "nbformat": 4,
  "nbformat_minor": 2
}
