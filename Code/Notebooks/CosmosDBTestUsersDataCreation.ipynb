{
  "cells": [
    {
      "cell_type": "markdown",
      "metadata": {
        "nteract": {
          "transient": {
            "deleting": false
          }
        }
      },
      "source": [
        "Copyright (c) Microsoft Corporation.\n",
        "\n",
        "Licensed under the MIT License."
      ]
    },
    {
      "cell_type": "code",
      "execution_count": 5,
      "metadata": {
        "jupyter": {
          "outputs_hidden": false,
          "source_hidden": false
        },
        "nteract": {
          "transient": {
            "deleting": false
          }
        }
      },
      "outputs": [],
      "source": [
        "import json"
      ]
    },
    {
      "cell_type": "code",
      "execution_count": 6,
      "metadata": {
        "jupyter": {
          "outputs_hidden": false,
          "source_hidden": false
        },
        "nteract": {
          "transient": {
            "deleting": false
          }
        }
      },
      "outputs": [],
      "source": [
        "user_folders = []\n",
        "d = {\n",
        "    \"FolderName\": \"Inbox\"\n",
        "}\n",
        "user_folders.append(d)\n",
        "d = {\n",
        "    \"FolderName\": \"Sent Items\"\n",
        "}\n",
        "user_folders.append(d)\n",
        "\n",
        "user_folders\n"
      ]
    },
    {
      "cell_type": "code",
      "execution_count": null,
      "metadata": {},
      "outputs": [],
      "source": [
        "# replace this list with your list of users \n",
        "lst_users = [['adelev@xxx' , '11111111-1111-1111-1111-111111111111'], \n",
        "            ['alexw@xxx' , '11111111-1111-1111-1111-111111111111']]\n",
        "\n",
        "for user in lst_users: \n",
        "    # print(user)\n",
        "    user_entry = {\n",
        "    \"initialload_completion_flag\": 0,\n",
        "    \"email\":user[0],\n",
        "    \"user_id\": user[1],\n",
        "    \"id\": user[1],\n",
        "    \"displayname\":user[0].split('@')[0],\n",
        "    \"region\":'West US',\n",
        "    \"folders\":user_folders\n",
        "    }\n",
        "\n",
        "    json_model = json.dumps(user_entry) \n",
        "\n",
        "    # convert to a dataframe\n",
        "    json_list = []\n",
        "    json_list.append(json_model)\n",
        "    df = spark.read.json(sc.parallelize(json_list))\n",
        "    df.write.format(\"cosmos.oltp\")\\\n",
        "    .option(\"spark.synapse.linkedService\", \"CosmosDB\")\\\n",
        "    .option(\"spark.cosmos.container\", \"users\")\\\n",
        "    .mode('append')\\\n",
        "    .save()\n",
        "\n",
        " # Uncomment this if your Linked Service is enabled with a private endpoint \n",
        "    #df = spark.read.json(sc.parallelize(json_list))\n",
        "    #df.write.format(\"cosmos.oltp\")\\\n",
        "    #.option(\"spark.cosmos.useGatewayMode\", True)\\ # You can uncomment this line if your Linked \n",
        "    #.option(\"spark.synapse.linkedService\", \"CosmosDb\")\\\n",
        "    #.option(\"spark.cosmos.container\", \"user\")\\\n",
        "    #.mode('append')\\\n",
        "    #.save()"
      ]
    },
    {
      "cell_type": "code",
      "execution_count": 9,
      "metadata": {
        "collapsed": false,
        "jupyter": {
          "outputs_hidden": false,
          "source_hidden": false
        },
        "nteract": {
          "transient": {
            "deleting": false
          }
        }
      },
      "outputs": [],
      "source": [
        "df = spark.read.format(\"cosmos.oltp\")\\\n",
        "            .option(\"spark.synapse.linkedService\", \"CosmosDB\")\\\n",
        "            .option(\"spark.cosmos.container\", \"users\")\\\n",
        "            .load()\n",
        "\n",
        "# Uncomment this if your Linked Service is enabled with a private endpoint \n",
        "#df = spark.read.format(\"cosmos.oltp\")\\\n",
        "#            .option(\"spark.cosmos.useGatewayMode\", True)\\\n",
        "#            .option(\"spark.synapse.linkedService\", \"CosmosDB\")\\\n",
        "#            .option(\"spark.cosmos.container\", \"users\")\\\n",
        "#            .load()\n",
        "display(df)            "
      ]
    },
    {
      "cell_type": "code",
      "execution_count": 10,
      "metadata": {
        "collapsed": false,
        "jupyter": {
          "outputs_hidden": false,
          "source_hidden": false
        },
        "nteract": {
          "transient": {
            "deleting": false
          }
        }
      },
      "outputs": [],
      "source": [
        "from pyspark.sql.functions import *\n",
        "\n",
        "\n",
        "df_folders = df.select('email','folders').select(explode(col(\"folders\")).alias(\"folders\"),'email') \\\n",
        "               .select([\"email\",col(\"folders.FolderName\").alias(\"FolderName\")])\n",
        "display(df_folders)"
      ]
    }
  ],
  "metadata": {
    "description": null,
    "kernelspec": {
      "display_name": "Python 3.7.8 64-bit",
      "language": "python",
      "name": "python3"
    },
    "language_info": {
      "name": "python",
      "version": "3.7.8"
    },
    "save_output": true,
    "vscode": {
      "interpreter": {
        "hash": "0a54084e6b208ee8d1ce3989ffc20924477a5f55f5a43e22e699a6741623861e"
      }
    }
  },
  "nbformat": 4,
  "nbformat_minor": 2
}
