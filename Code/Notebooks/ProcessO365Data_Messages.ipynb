{
  "cells": [
    {
      "cell_type": "markdown",
      "metadata": {
        "nteract": {
          "transient": {
            "deleting": false
          }
        }
      },
      "source": [
        "Copyright (c) Microsoft Corporation.\n",
        "\n",
        "Licensed under the MIT License."
      ]
    },
    {
      "cell_type": "code",
      "execution_count": null,
      "metadata": {
        "jupyter": {
          "outputs_hidden": false,
          "source_hidden": false
        },
        "nteract": {
          "transient": {
            "deleting": false
          }
        },
        "tags": [
          "parameters"
        ]
      },
      "outputs": [],
      "source": [
        "data_lake_account_name = '' # Synapse Workspace ADLS\n",
        "file_system_name = ''\n",
        "subfolder_name = '' \n",
        "folder_name = 'messages'\n",
        "user_group_name = ''\n",
        "initialLoad = 'false'"
      ]
    },
    {
      "cell_type": "code",
      "execution_count": null,
      "metadata": {
        "jupyter": {
          "outputs_hidden": false,
          "source_hidden": false
        },
        "nteract": {
          "transient": {
            "deleting": false
          }
        }
      },
      "outputs": [],
      "source": [
        "base_path = f\"abfss://{file_system_name}@{data_lake_account_name}.dfs.core.windows.net/\""
      ]
    },
    {
      "cell_type": "code",
      "execution_count": null,
      "metadata": {
        "collapsed": false,
        "jupyter": {
          "outputs_hidden": false,
          "source_hidden": false
        },
        "nteract": {
          "transient": {
            "deleting": false
          }
        }
      },
      "outputs": [],
      "source": [
        "from pyspark.sql.functions import *\n",
        "from pyspark.sql.types import *\n",
        "\n",
        "def load_messages_json_file(messagesPath):\n",
        "    messages_df= spark.read.load(messagesPath, format='json')\n",
        "    messages_df = messages_df.select(\"Id\",\"puser\",\"ParentFolderId\",\"ConversationId\",\"Subject\",\"CreatedDateTime\",\"LastModifiedDateTime\",\"SentDateTime\",\"Sender\",\"ToRecipients\",\"CcRecipients\",\"BccRecipients\")\n",
        "\n",
        "    df = messages_df.select('*',size('ToRecipients').alias('ToRecipients_cnt'),size('CcRecipients').alias('CcRecipients_cnt'),size('BccRecipients').alias('BccRecipients_cnt')) \\\n",
        "                    .select(explode(col(\"ToRecipients\")).alias(\"ToRecipients\"),\"Id\",\"puser\",\"ParentFolderId\",\"ConversationId\",\"Subject\",\"CreatedDateTime\",\"LastModifiedDateTime\",\"SentDateTime\",\"Sender\",\"ToRecipients_cnt\",\"CcRecipients_cnt\",\"BccRecipients_cnt\") \\\n",
        "                    .select([\"Id\",\"puser\",\"ParentFolderId\",\"ConversationId\",\"Subject\",\"CreatedDateTime\",\"LastModifiedDateTime\",\"SentDateTime\",\"ToRecipients_cnt\",\"CcRecipients_cnt\",\"BccRecipients_cnt\",col(\"Sender.EmailAddress.Address\").alias(\"Sender\"),\n",
        "                            col(\"ToRecipients.EmailAddress.Address\").alias(\"Recipient\")]) \\\n",
        "                    .withColumn(\"RType\", lit('To')) \\\n",
        "                    .withColumn(\"LoadDateRange\", lit(subfolder_name)) \\\n",
        "                    .withColumn(\"UserGroup\", lit(user_group_name))\n",
        "    try:\n",
        "        df = df.union(messages_df.select('*',size('ToRecipients').alias('ToRecipients_cnt'),size('CcRecipients').alias('CcRecipients_cnt'),size('BccRecipients').alias('BccRecipients_cnt')) \\\n",
        "                        .select(explode(col(\"CcRecipients\")).alias(\"CcRecipients\"),\"Id\",\"puser\",\"ParentFolderId\",\"ConversationId\",\"Subject\",\"CreatedDateTime\",\"LastModifiedDateTime\",\"SentDateTime\",\"Sender\",\"ToRecipients_cnt\",\"CcRecipients_cnt\",\"BccRecipients_cnt\") \\\n",
        "                        .select([\"Id\",\"puser\",\"ParentFolderId\",\"ConversationId\",\"Subject\",\"CreatedDateTime\",\"LastModifiedDateTime\",\"SentDateTime\",\"ToRecipients_cnt\",\"CcRecipients_cnt\",\"BccRecipients_cnt\",col(\"Sender.EmailAddress.Address\").alias(\"Sender\"),\n",
        "                                col(\"CcRecipients.EmailAddress.Address\").alias(\"Recipient\")]) \\\n",
        "                        .withColumn(\"RType\", lit('Cc')) \\\n",
        "                        .withColumn(\"LoadDateRange\", lit(subfolder_name)) \\\n",
        "                        .withColumn(\"UserGroup\", lit(user_group_name))\n",
        "                        )\n",
        "    except:\n",
        "        pass \n",
        "    try:\n",
        "        df = df.union(messages_df.select('*',size('ToRecipients').alias('ToRecipients_cnt'),size('CcRecipients').alias('CcRecipients_cnt'),size('BccRecipients').alias('BccRecipients_cnt')) \\\n",
        "                        .select(explode(col(\"BccRecipients\")).alias(\"BccRecipients\"),\"Id\",\"puser\",\"ParentFolderId\",\"ConversationId\",\"Subject\",\"CreatedDateTime\",\"LastModifiedDateTime\",\"SentDateTime\",\"Sender\",\"ToRecipients_cnt\",\"CcRecipients_cnt\",\"BccRecipients_cnt\") \\\n",
        "                        .select([\"Id\",\"puser\",\"ParentFolderId\",\"ConversationId\",\"Subject\",\"CreatedDateTime\",\"LastModifiedDateTime\",\"SentDateTime\",\"ToRecipients_cnt\",\"CcRecipients_cnt\",\"BccRecipients_cnt\",col(\"Sender.EmailAddress.Address\").alias(\"Sender\"),\n",
        "                                col(\"BccRecipients.EmailAddress.Address\").alias(\"Recipient\")]) \\\n",
        "                        .withColumn(\"RecipientType\", lit('Bcc')) \\\n",
        "                        .withColumn(\"LoadDateRange\", lit(subfolder_name)) \\\n",
        "                        .withColumn(\"UserGroup\", lit(user_group_name))\n",
        "                        )                \n",
        "    except:\n",
        "        pass\n",
        "\n",
        "    try:\n",
        "        df = df.withColumn('CreatedDateTime', to_timestamp('CreatedDateTime')) \\\n",
        "                .withColumn('LastModifiedDateTime', to_timestamp('LastModifiedDateTime')) \\\n",
        "                .withColumn('SentDateTime', to_timestamp('SentDateTime')) \\\n",
        "                .withColumn('SentDate', to_date('SentDateTime')) \\\n",
        "                .withColumn('Sender', lower(col('Sender'))) \\\n",
        "                .withColumn('Recipient', lower(col('Recipient'))) \\\n",
        "                .withColumn('Sender_Domain', reverse(split(lower(col('Sender')),'@'))[0]) \\\n",
        "                .withColumn('Recipient_Domain', reverse(split(lower(col('Recipient')),'@'))[0]) \\\n",
        "                .withColumn('Recipients_cnt',(col('ToRecipients_cnt') + col('CcRecipients_cnt') + col('BccRecipients_cnt'))) \\\n",
        "                .select('Id','puser','ParentFolderId','ConversationId','Subject','CreatedDateTime', \\\n",
        "                        'LastModifiedDateTime','SentDateTime','SentDate','Sender','Recipient', \\\n",
        "                        'RType','Sender_Domain','Recipient_Domain','ToRecipients_cnt', \\\n",
        "                        'CcRecipients_cnt','BccRecipients_cnt','Recipients_cnt','LoadDateRange','UserGroup')\n",
        "    except:\n",
        "        pass\n",
        "        \n",
        "    processed_path = base_path +\"o365data_processed_unfiltered/\" + folder_name + \"/\" + user_group_name + \"/\" + subfolder_name\n",
        "    df.write.format(\"parquet\").mode(\"append\").save(processed_path)\n",
        "    \n",
        "def get_message_subfolder_files(folder):\n",
        "    children = mssparkutils.fs.ls(folder)\n",
        "    for child in children:\n",
        "        if child.name == 'metadata':\n",
        "            continue\n",
        "        if child.isDir:\n",
        "           get_message_subfolder_files(child.path)\n",
        "        else:       \n",
        "            load_messages_json_file(child.path)\n",
        "            "
      ]
    },
    {
      "cell_type": "code",
      "execution_count": null,
      "metadata": {
        "jupyter": {
          "outputs_hidden": false,
          "source_hidden": false
        },
        "nteract": {
          "transient": {
            "deleting": false
          }
        }
      },
      "outputs": [],
      "source": [
        "messagesPath = base_path +\"o365data/\" + folder_name + \"/\" + user_group_name + \"/\" + subfolder_name\n",
        "\n",
        "get_message_subfolder_files(messagesPath) "
      ]
    },
    {
      "cell_type": "code",
      "execution_count": null,
      "metadata": {
        "jupyter": {
          "outputs_hidden": false,
          "source_hidden": false
        },
        "nteract": {
          "transient": {
            "deleting": false
          }
        }
      },
      "outputs": [],
      "source": [
        "processed_path = base_path + \"o365data_processed_unfiltered/\" + folder_name + \"/\" + user_group_name + \"/\" + subfolder_name\n",
        "df_processed = spark.read.load(processed_path, format='parquet',header=True)\n",
        "\n",
        "folder_filter_path = base_path + \"o365data_processed/folderfiltersdata/\" #+ user_group_name\n",
        "df_folder_filter = spark.read.load(folder_filter_path, format='parquet',header=True)\n",
        "\n",
        "df_folder_filter = df_folder_filter.withColumnRenamed('id','FolderId') \\\n",
        "                                    .withColumnRenamed('puser','puser1') \\\n",
        "                                    .withColumnRenamed('ParentFolderId','ParentFolderId1')\n",
        "\n",
        "df_filtered = df_processed.join(df_folder_filter, \\\n",
        "                (df_processed['puser'] == df_folder_filter['puser1']) & (df_processed['ParentFolderId'] == df_folder_filter['FolderId'])) \\\n",
        "                .select(df_processed.columns)   \n",
        "\n",
        "\n",
        "filtered_path = base_path +\"o365data_processed/\" + folder_name + \"/\" + user_group_name + \"/\" + subfolder_name\n",
        "df_filtered.write.format(\"parquet\").mode(\"overwrite\").save(filtered_path)\n"
      ]
    },
    {
      "cell_type": "code",
      "execution_count": null,
      "metadata": {
        "collapsed": false,
        "jupyter": {
          "outputs_hidden": false,
          "source_hidden": false
        },
        "nteract": {
          "transient": {
            "deleting": false
          }
        }
      },
      "outputs": [],
      "source": [
        "from pyspark.sql.types import *\n",
        "from pyspark.sql import Row\n",
        "\n",
        "load_stats_schema = StructType([StructField('all_messages_count', IntegerType()), \n",
        "                     StructField('filtered_messages_count',IntegerType()),\n",
        "                     StructField('discarded_messages_count',IntegerType()),\n",
        "                     ])\n",
        "load_stats = [Row(all_messages_count=df_processed.count(), \n",
        "            filtered_messages_count=df_filtered.count(),\n",
        "            discarded_messages_count = (df_processed.count()-df_filtered.count())\n",
        "            )]\n",
        "df_load_stats = spark.createDataFrame(load_stats, load_stats_schema)\n",
        "\n",
        "df_load_stats = df_load_stats.withColumn(\"LoadDateRange\", lit(subfolder_name)) \\\n",
        "                        .withColumn(\"UserGroup\", lit(user_group_name))\n",
        "\n",
        "load_stats_path = base_path +\"o365data_loadstats/\" + folder_name + \"/\" + user_group_name + \"/\" + subfolder_name\n",
        "df_load_stats.write.format(\"parquet\").mode(\"overwrite\").save(load_stats_path)"
      ]
    },
    {
      "cell_type": "code",
      "execution_count": null,
      "metadata": {
        "jupyter": {
          "outputs_hidden": false,
          "source_hidden": false
        },
        "nteract": {
          "transient": {
            "deleting": false
          }
        }
      },
      "outputs": [],
      "source": [
        "processed_path = base_path +\"o365data_processed/\" + folder_name + \"/\" + user_group_name + \"/\" + subfolder_name\n",
        "df_messages = spark.read.format(\"parquet\").load(processed_path,header=True)\n",
        "df_messages = df_messages.select('Id','Sender','Recipient','RType','SentDate','SentDateTime','Sender_Domain','Recipient_Domain')\n",
        "\n",
        "df_messages = df_messages.withColumn('IsReversed_Row',lit(0))\n",
        "\n",
        "df_messages_copy = df_messages.select('Id','Sender','Recipient','RType','SentDate','SentDateTime','Sender_Domain','Recipient_Domain') \\\n",
        "                              .withColumn('Sender',col('Recipient')) \\\n",
        "                              .withColumn('Recipient',col('Sender')) \\\n",
        "                              .withColumn('Sender_Domain',col('Recipient_Domain')) \\\n",
        "                              .withColumn('Recipient_Domain',col('Sender_Domain')) \\\n",
        "                              .withColumn('IsReversed_Row',lit(1))\n",
        "df_messages = df_messages.union(df_messages_copy)\n",
        "\n",
        "df_messages.write.mode(\"append\").saveAsTable(\"messagesdata\")"
      ]
    }
  ],
  "metadata": {
    "description": null,
    "kernelspec": {
      "display_name": "Python 3.7.8 64-bit",
      "language": "python",
      "name": "python3"
    },
    "language_info": {
      "name": "python",
      "version": "3.7.8"
    },
    "save_output": true,
    "synapse_widget": {
      "state": {},
      "version": "0.1"
    },
    "vscode": {
      "interpreter": {
        "hash": "0a54084e6b208ee8d1ce3989ffc20924477a5f55f5a43e22e699a6741623861e"
      }
    }
  },
  "nbformat": 4,
  "nbformat_minor": 2
}
